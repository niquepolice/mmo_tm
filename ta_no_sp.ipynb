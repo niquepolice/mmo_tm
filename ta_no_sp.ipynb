{
 "cells": [
  {
   "cell_type": "code",
   "execution_count": null,
   "id": "5c429210-90b6-41fc-a314-6c6448c97e1e",
   "metadata": {
    "tags": []
   },
   "outputs": [],
   "source": [
    "%load_ext autoreload\n",
    "%autoreload 2"
   ]
  },
  {
   "cell_type": "code",
   "execution_count": null,
   "id": "136241d7-b1c9-4db3-b729-e4d609a955c5",
   "metadata": {
    "tags": []
   },
   "outputs": [],
   "source": [
    "import networkx as nx\n",
    "import numpy as np\n",
    "import cvxpy as cp\n",
    "from tqdm import tqdm\n",
    "from pathlib import Path\n",
    "\n",
    "from src.load_data import (\n",
    "    read_metadata_networks_tntp,\n",
    "    read_graph_transport_networks_tntp,\n",
    "    read_traffic_mat_transport_networks_tntp,\n",
    ")\n",
    "\n",
    "from src.models import SDModel, BeckmannModel, TwostageModel\n",
    "from src.algs import subgd, ustm, frank_wolfe, cyclic, N_conjugate_frank_wolfe\n",
    "from src.cvxpy_solvers import get_max_traffic_mat_mul\n",
    "from src.commons import Correspondences\n",
    "from src.saddle_ta import salim_ta, chambolle_pock_ta\n",
    "\n",
    "import matplotlib.pyplot as plt\n",
    "\n",
    "plt.rcParams.update({\"font.size\": 14})\n",
    "%config InlineBackend.figure_format = 'retina'\n",
    "\n",
    "%matplotlib inline"
   ]
  },
  {
   "cell_type": "code",
   "execution_count": null,
   "id": "6c05a856-8a2f-4a11-b8ba-40f819078535",
   "metadata": {
    "tags": []
   },
   "outputs": [],
   "source": [
    "networks_path = Path(\"./TransportationNetworks\")\n",
    "\n",
    "folder = \"SiouxFalls\"\n",
    "net_name = \"SiouxFalls_net\"\n",
    "traffic_mat_name = \"SiouxFalls_trips\"\n",
    "\n",
    "# folder = \"Anaheim\"\n",
    "# net_name = \"Anaheim_net\"\n",
    "# traffic_mat_name = \"Anaheim_trips\"\n",
    "\n",
    "# folder = \"Barcelona\"\n",
    "# net_name = \"Barcelona_net\"\n",
    "# traffic_mat_name = \"Barcelona_trips\"\n",
    "\n",
    "\n",
    "net_file = networks_path / folder / f\"{net_name}.tntp\"\n",
    "traffic_mat_file = networks_path / folder / f\"{traffic_mat_name}.tntp\"\n",
    "graph, metadata = read_graph_transport_networks_tntp(net_file)\n",
    "correspondences = read_traffic_mat_transport_networks_tntp(traffic_mat_file, metadata)\n",
    "n = graph.number_of_nodes()\n",
    "\n",
    "print(f\"{graph.number_of_edges()=}, {graph.number_of_nodes()=}\")"
   ]
  },
  {
   "cell_type": "code",
   "execution_count": null,
   "id": "877aa96b",
   "metadata": {},
   "outputs": [],
   "source": [
    "beckmann_model = BeckmannModel(graph, correspondences)\n",
    "\n",
    "eps = 1e-4\n",
    "mean_bw = beckmann_model.graph.ep.capacities.a.mean()\n",
    "mean_cost = beckmann_model.graph.ep.free_flow_times.a.mean()\n",
    "\n",
    "# cost suboptimality <= eps * (average link cost * avg bandwidth * |E| \\approx total cost when beta=1)\n",
    "eps_abs = eps * mean_cost * mean_bw * graph.number_of_edges()\n",
    "\n",
    "eps_cons_abs = eps * mean_bw\n",
    "# sum of capacity violation <= eps * average link capacity\n",
    "print(eps_abs, eps_cons_abs)"
   ]
  },
  {
   "cell_type": "markdown",
   "id": "c81ec4e6",
   "metadata": {},
   "source": [
    "# Beckmann"
   ]
  },
  {
   "cell_type": "code",
   "execution_count": null,
   "id": "e7f25a25",
   "metadata": {},
   "outputs": [],
   "source": [
    "times_e_ustm, flows_e_ustm, logs, optimal = ustm(beckmann_model, eps_abs, max_iter=1000, stop_by_crit=False)\n",
    "dgap_ustm, cons_log_ustm, time_log_ustm = logs\n",
    "print(len(dgap_ustm), \"shortest paths calls\")"
   ]
  },
  {
   "cell_type": "code",
   "execution_count": null,
   "id": "2f783393",
   "metadata": {},
   "outputs": [],
   "source": [
    "times_e_fw, flows_e_fw, logs, optimal = frank_wolfe(beckmann_model, eps_abs, max_iter=7700, stop_by_crit=False)\n",
    "dgap_fw, time_log_fw, primal_r_gap_fw = logs"
   ]
  },
  {
   "cell_type": "code",
   "execution_count": null,
   "id": "52dbf071",
   "metadata": {},
   "outputs": [],
   "source": [
    "times_e_nfw, flows_e_nfw, logs, optimal = N_conjugate_frank_wolfe(\n",
    "    beckmann_model, eps_abs, max_iter=4000, stop_by_crit=False, cnt_conjugates=3, linesearch=True\n",
    ")\n",
    "dgap_nfw, time_log_nfw, primal_r_gap_nfw = logs"
   ]
  },
  {
   "cell_type": "code",
   "execution_count": null,
   "id": "d5d0ec64",
   "metadata": {},
   "outputs": [],
   "source": [
    "plt.figure(figsize=(10, 4))\n",
    "plt.subplot(121)\n",
    "dgap_ustm = np.abs(dgap_ustm)\n",
    "dgap_fw = np.abs(dgap_fw)\n",
    "dgap_nfw = np.abs(dgap_nfw)\n",
    "plt.plot(time_log_ustm, dgap_ustm, c=\"C4\", label=\"USTM\")\n",
    "plt.plot(time_log_fw, dgap_fw, c=\"C5\", label=\"FW\")\n",
    "plt.plot(time_log_nfw, dgap_nfw, c=\"C3\", label=\"NFW\")\n",
    "plt.axhline(y=np.ones(max(dgap_ustm.size, dgap_fw.size))[0] * eps_abs, linestyle=\"--\", label=\"eps_abs\")\n",
    "plt.yscale(\"log\")\n",
    "plt.title(\"abs(dgap)\")\n",
    "plt.legend()"
   ]
  },
  {
   "cell_type": "code",
   "execution_count": null,
   "id": "6f49cfa5",
   "metadata": {},
   "outputs": [],
   "source": [
    "from src.salim import SaddleOracle"
   ]
  },
  {
   "cell_type": "code",
   "execution_count": null,
   "id": "0060ca6e",
   "metadata": {},
   "outputs": [],
   "source": [
    "A = incidence_mat = nx.incidence_matrix(beckmann_model.nx_graph, oriented=True).todense()\n",
    "\n",
    "saddle_oracle = SaddleOracle(beckmann_model, None, None, None)\n",
    "\n",
    "Ld = saddle_oracle.Bmul(beckmann_model.correspondences.traffic_mat).T\n",
    "b = -Ld"
   ]
  },
  {
   "cell_type": "code",
   "execution_count": null,
   "id": "91330802",
   "metadata": {},
   "outputs": [],
   "source": [
    "svals = np.linalg.svd(A)[1]\n",
    "lam1 = svals[0] ** 2\n",
    "lam2 = svals[svals > 1e-8][-1] ** 2\n",
    "\n",
    "L_sq = lam1 + Ld.shape[0]\n",
    "\n",
    "lam1 *= 2\n",
    "lam2 /= 2\n",
    "lam1, lam2"
   ]
  },
  {
   "cell_type": "code",
   "execution_count": null,
   "id": "aa07663b",
   "metadata": {},
   "outputs": [],
   "source": [
    "mu = 1e-2\n",
    "L = 100\n",
    "iters = 100000\n",
    "\n",
    "y_salim, f_salim, cons_log, opt_log = salim_ta(beckmann_model, iters=iters, mu=mu, L=L, lam1=lam1, lam2=lam2)"
   ]
  },
  {
   "cell_type": "code",
   "execution_count": null,
   "id": "2760c4e4",
   "metadata": {},
   "outputs": [],
   "source": [
    "plt.plot(cons_log, label=\"cons\")\n",
    "plt.plot(opt_log, label=\"func\")\n",
    "plt.legend()\n",
    "plt.yscale(\"log\")"
   ]
  },
  {
   "cell_type": "code",
   "execution_count": null,
   "id": "e67c0a31",
   "metadata": {},
   "outputs": [],
   "source": [
    "# plt.plot(flows_e_nfw)\n",
    "# plt.plot(x.sum(axis=1))"
   ]
  },
  {
   "cell_type": "code",
   "execution_count": null,
   "id": "ee27a155",
   "metadata": {},
   "outputs": [],
   "source": [
    "# chambolle-pock\n",
    "iters = 10000\n",
    "\n",
    "# gamma = nu = 1 / L_sq ** 0.5\n",
    "\n",
    "# nu = 0.01\n",
    "# gamma = 1 / L_sq / nu\n",
    "\n",
    "gamma = 0.001\n",
    "nu = 1 / L_sq / gamma\n",
    "\n",
    "print(f\"{gamma, nu, L_sq =}\")\n",
    "\n",
    "y_cp, f_cp, cons_log, opt_log = chambolle_pock_ta(beckmann_model, iters=iters, gamma=gamma, nu=nu)"
   ]
  },
  {
   "cell_type": "code",
   "execution_count": null,
   "id": "e797ac3b",
   "metadata": {},
   "outputs": [],
   "source": [
    "plt.plot(cons_log, label=\"cons\")\n",
    "plt.plot(opt_log, label=\"func\")\n",
    "plt.legend()\n",
    "plt.grid()\n",
    "plt.yscale(\"log\")"
   ]
  },
  {
   "cell_type": "code",
   "execution_count": null,
   "id": "32c3c003",
   "metadata": {},
   "outputs": [],
   "source": [
    "# plt.plot(flows_e_nfw)\n",
    "# plt.plot(f.sum(axis=1))"
   ]
  },
  {
   "cell_type": "code",
   "execution_count": null,
   "id": "b3858acb",
   "metadata": {},
   "outputs": [],
   "source": []
  }
 ],
 "metadata": {
  "kernelspec": {
   "display_name": "tm",
   "language": "python",
   "name": "tm"
  },
  "language_info": {
   "codemirror_mode": {
    "name": "ipython",
    "version": 3
   },
   "file_extension": ".py",
   "mimetype": "text/x-python",
   "name": "python",
   "nbconvert_exporter": "python",
   "pygments_lexer": "ipython3",
   "version": "3.11.6"
  }
 },
 "nbformat": 4,
 "nbformat_minor": 5
}
