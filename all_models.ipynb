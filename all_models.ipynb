{
 "cells": [
  {
   "cell_type": "code",
   "execution_count": null,
   "id": "5c429210-90b6-41fc-a314-6c6448c97e1e",
   "metadata": {
    "tags": []
   },
   "outputs": [],
   "source": [
    "%load_ext autoreload\n",
    "%autoreload 2\n"
   ]
  },
  {
   "cell_type": "code",
   "execution_count": null,
   "id": "136241d7-b1c9-4db3-b729-e4d609a955c5",
   "metadata": {
    "tags": []
   },
   "outputs": [],
   "source": [
    "import networkx as nx\n",
    "import numpy as np\n",
    "import cvxpy as cp\n",
    "import copy\n",
    "from tqdm import tqdm\n",
    "from pathlib import Path\n",
    "\n",
    "from src.load_data import (\n",
    "    read_metadata_networks_tntp,\n",
    "    read_graph_transport_networks_tntp,\n",
    "    read_traffic_mat_transport_networks_tntp,\n",
    ")\n",
    "\n",
    "from src.models import SDModel, BeckmannModel, TwostageModel\n",
    "from src.algs import subgd, ustm, frank_wolfe, cyclic, N_conjugate_frank_wolfe \n",
    "from src.cvxpy_solvers import get_max_traffic_mat_mul\n",
    "from src.commons import Correspondences\n",
    "from src.admm_stuff import AdmmOracle, combined_salim\n",
    "\n",
    "import matplotlib.pyplot as plt\n",
    "from matplotlib.ticker import LogLocator, LogFormatter\n",
    "\n",
    "\n",
    "plt.rcParams.update({'font.size': 14})\n",
    "%config InlineBackend.figure_format = 'retina'\n",
    "\n",
    "%matplotlib inline"
   ]
  },
  {
   "cell_type": "code",
   "execution_count": null,
   "id": "6c05a856-8a2f-4a11-b8ba-40f819078535",
   "metadata": {
    "tags": []
   },
   "outputs": [],
   "source": [
    "networks_path = Path(\"./TransportationNetworks\")\n",
    "\n",
    "folder = \"SiouxFalls\"\n",
    "net_name = \"SiouxFalls_net\"\n",
    "traffic_mat_name = \"SiouxFalls_trips\"\n",
    "\n",
    "# folder = \"Chicago-Sketch\"\n",
    "# net_name = \"ChicagoSketch_net\"\n",
    "# traffic_mat_name = \"ChicagoSketch_trips\"\n",
    "\n",
    "# folder = \"Anaheim\"\n",
    "# net_name = \"Anaheim_net\"\n",
    "# traffic_mat_name = \"Anaheim_trips\"\n",
    "    \n",
    "# folder = \"Barcelona\"\n",
    "# net_name = \"Barcelona_net\"\n",
    "# traffic_mat_name = \"Barcelona_trips\"\n",
    "\n",
    "    \n",
    "net_file = networks_path / folder / f\"{net_name}.tntp\"\n",
    "traffic_mat_file = networks_path / folder / f\"{traffic_mat_name}.tntp\"\n",
    "graph, metadata = read_graph_transport_networks_tntp(net_file)\n",
    "correspondences = read_traffic_mat_transport_networks_tntp(traffic_mat_file, metadata)\n",
    "n = graph.number_of_nodes()\n",
    "\n",
    "print(f\"{graph.number_of_edges()=}, {graph.number_of_nodes()=}\")"
   ]
  },
  {
   "cell_type": "code",
   "execution_count": null,
   "id": "2c0aee0f",
   "metadata": {},
   "outputs": [],
   "source": [
    "# # This cell is to add some people to replace zeros in traffic maxtrix but not making flow bigger\n",
    "\n",
    "# tm = correspondences.traffic_mat\n",
    "# print(tm.sum())\n",
    "# tm[tm == 0] = 1\n",
    "# tm[tm > 10] = tm[tm > 10] * 0.952\n",
    "# tm.sum()"
   ]
  },
  {
   "cell_type": "code",
   "execution_count": null,
   "id": "877aa96b",
   "metadata": {},
   "outputs": [],
   "source": [
    "beckmann_model = BeckmannModel(graph, copy.deepcopy(correspondences))"
   ]
  },
  {
   "cell_type": "markdown",
   "id": "34eb20da",
   "metadata": {},
   "source": [
    "# Twostage"
   ]
  },
  {
   "cell_type": "code",
   "execution_count": null,
   "id": "1441e134",
   "metadata": {},
   "outputs": [],
   "source": [
    "traffic_mat = correspondences.traffic_mat.copy() \n",
    "departures, arrivals = traffic_mat.sum(axis=1), traffic_mat.sum(axis=0) \n",
    "l, w = departures, arrivals\n",
    "twostage_beckmann_model = TwostageModel(beckmann_model, departures=departures, arrivals=arrivals, gamma=0.1)\n",
    "admm_oracle = AdmmOracle(twostage_beckmann_model.traffic_model, twostage_beckmann_model.gamma, l, w)"
   ]
  },
  {
   "cell_type": "raw",
   "id": "60a0f43e",
   "metadata": {
    "scrolled": true
   },
   "source": [
    "# exact solution via cyclic (if it converges better than salim)\n",
    "output = cyclic(model=twostage_beckmann_model,\n",
    "                traffic_assigment_eps_abs=10,#experiment[\"almost_exact\"][\"ta_eps_abs\"],\n",
    "                traffic_assigment_max_iter=100,#experiment[\"almost_exact\"][\"max_iter\"],\n",
    "                max_iter=10,#experiment[\"meta\"][\"cyclic_iters\"],\n",
    "                stop_by_crit=False)\n",
    "\n",
    "times_e_best, flows_e_best, corrs_best, logs, optimal = output\n",
    "times, dgaps = logs[2], logs[0]\n",
    "experiment[\"almost_exact\"][\"times\"] = times\n",
    "experiment[\"almost_exact\"][\"dgaps\"] = dgaps "
   ]
  },
  {
   "cell_type": "raw",
   "id": "eb90a87c",
   "metadata": {},
   "source": [
    "times, dgaps = experiment[\"almost_exact\"][\"times\"], experiment[\"almost_exact\"][\"dgaps\"]\n",
    "ax = plt.figure(figsize=(6,4)).add_subplot(1, 1, 1)\n",
    "ax.plot(times, dgaps, label=f\"gap\")\n",
    "ax.scatter(times, dgaps)\n",
    "\n",
    "ax.minorticks_on(), ax.set_yscale(\"log\"), ax.set_ylabel(\"dgap\"), ax.set_xlabel(\"time, s\")\n",
    "minor_locator = LogLocator(base=10.0, subs=np.arange(1.0, 10.0) * 0.1, numticks=12)\n",
    "ax.yaxis.set_minor_locator(minor_locator)\n",
    "ax.grid(which='major', linestyle='-', linewidth='0.5', alpha=0.5)\n",
    "ax.grid(which='minor', linestyle=':', linewidth='0.5', alpha=1) \n",
    "_ = ax.legend(), plt.show()"
   ]
  },
  {
   "cell_type": "code",
   "execution_count": null,
   "id": "19f15d2e",
   "metadata": {},
   "outputs": [],
   "source": [
    "# Power method for lam1\n",
    "oracle = admm_oracle\n",
    "hf = np.random.random((oracle.n_edges, l.size))\n",
    "hd = np.random.random((l.size, l.size))\n",
    "h = np.vstack((hd, hf))\n",
    "\n",
    "def MTM(h):\n",
    "    hd, hf = h[:l.size, :], h[l.size:, :]\n",
    "    vf = oracle.ATmul(oracle.Amul(hf)) + oracle.ATmul(oracle.Bmul(hd))\n",
    "    vd = oracle.BTmul(oracle.Amul(hf)) + oracle.BTmul(oracle.Bmul(hd)) + oracle.KTmul(oracle.Kmul(hd))\n",
    "    return np.vstack((vd, vf))\n",
    "    \n",
    "for i in range(10):\n",
    "    h /= np.linalg.norm(h)\n",
    "    h = MTM(h)\n",
    "    lmax = np.linalg.norm(h)\n",
    "    print(\"lmax\", lmax, lmax / l.size)\n",
    "    \n",
    "    \n",
    "def MT(yAB, yK):\n",
    "    vf = oracle.ATmul(yAB)\n",
    "    vd = oracle.BTmul(yAB) + oracle.KTmul(yK)\n",
    "    return np.vstack((vd, vf))\n"
   ]
  },
  {
   "cell_type": "code",
   "execution_count": null,
   "id": "30206d97",
   "metadata": {},
   "outputs": [],
   "source": [
    "# in Im M^T = (Ker M)^\\bot\n",
    "h = MT(np.random.random(oracle.Amul(hf).shape), np.random.random(oracle.Kmul(hd).shape))\n",
    "lmins = []\n",
    "for i in tqdm(range(3000)):\n",
    "    h /= np.linalg.norm(h)\n",
    "    h = (lmax * h - MTM(h))\n",
    "    lmin = lmax - np.linalg.norm(h)\n",
    "    lmins.append(lmin)\n",
    "    \n",
    "print(\"lmin\", lmin, lmin / l.size)\n",
    "\n",
    "plt.plot(lmins)\n",
    "plt.grid(which=\"both\")\n",
    "plt.yscale(\"log\")"
   ]
  },
  {
   "cell_type": "code",
   "execution_count": null,
   "id": "ec56390e",
   "metadata": {},
   "outputs": [],
   "source": [
    "# for Sioux-Falls\n",
    "comment = \"3FW in cyclic\"\n",
    "ta_epss = list(10.0 ** np.arange(2, -1, -1))\n",
    "# agd_kwargs = dict(eps_abs=1e-4, iters=1000, M0=10)\n",
    "# salim_kwargs = dict(eps_abs=1e-5, iters=1000, mu=0.01, L=1)\n",
    "experiment = {\"meta\": {\"network\": folder, \"description\": comment, },\n",
    "#        \"almost_exact\" : {\"max_iter\": 10_000, \"ta_eps_abs\": 1e-2},\n",
    "        \"cyclic_big_iters\": 15,\n",
    "        \"cyclic_ta_iters\": 10_000,\n",
    "        \"ta_epss\" : ta_epss,\n",
    "        \"salim_kwargs\" : dict(mu=1e-4, L=1,lam2=l.size, lam1=3*l.size),\n",
    "        \"salim_iters\" : 2000,\n",
    "        \"salim_exact_iters\" : 5000,\n",
    "        \"data\" : {     \n",
    "            \"dgapss\" : None,\n",
    "            \"timess\" : None,\n",
    "            \"distss\" : None,\n",
    "            \"salim_exact_cons\" : None,\n",
    "            \"salim_exact_opt\" : None,\n",
    "            \"salim_times\" : None,\n",
    "            \"salim_dists\" : None,\n",
    "            },\n",
    "        }\n",
    "data = experiment[\"data\"]"
   ]
  },
  {
   "cell_type": "code",
   "execution_count": null,
   "id": "42cc668a",
   "metadata": {
    "scrolled": true
   },
   "outputs": [],
   "source": [
    "output = combined_salim(admm_oracle, **experiment[\"salim_kwargs\"],\n",
    "                        iters=experiment[\"salim_exact_iters\"],\n",
    "                        plot_convergence=False)\n",
    "corrs_best, flows_best, yK_s, yAB_s, dists_s, times_s, pri_res, opt = output\n",
    "flows_e_best = flows_best.sum(axis=1)\n",
    "\n",
    "data[\"salim_exact_times\"], data[\"salim_exact_cons\"], data[\"salim_exact_opt\"] = times_s, pri_res, opt"
   ]
  },
  {
   "cell_type": "code",
   "execution_count": null,
   "id": "627637f7",
   "metadata": {},
   "outputs": [],
   "source": [
    "plt.plot(data[\"salim_exact_times\"], data[\"salim_exact_cons\"], label=\"cons\")\n",
    "plt.plot(data[\"salim_exact_times\"], data[\"salim_exact_opt\"], label=\"opt\")\n",
    "plt.legend()\n",
    "plt.xlabel(\"time, s\")\n",
    "plt.yscale(\"log\")"
   ]
  },
  {
   "cell_type": "code",
   "execution_count": null,
   "id": "eca31bed",
   "metadata": {},
   "outputs": [],
   "source": [
    "output = combined_salim(admm_oracle, **experiment[\"salim_kwargs\"], iters=experiment[\"salim_iters\"],\n",
    "               solution_corrs=corrs_best,\n",
    "               solution_flows=flows_e_best,\n",
    "               )\n",
    "corrs_salim, flows_salim, yK_s, yAB_s, dists_s, times_s, pri_res, opt = output\n",
    "\n",
    "data[\"salim_times\"], data[\"salim_dists\"] = times_s, dists_s"
   ]
  },
  {
   "cell_type": "code",
   "execution_count": null,
   "id": "fa452513",
   "metadata": {},
   "outputs": [],
   "source": [
    "plt.plot(times_s, pri_res, label=\"cons\")\n",
    "plt.plot(times_s, opt, label=\"opt\")\n",
    "plt.plot(times_s, dists_s, label=\"dist\")\n",
    "plt.legend(), plt.yscale(\"log\")\n"
   ]
  },
  {
   "cell_type": "code",
   "execution_count": null,
   "id": "67722415",
   "metadata": {
    "scrolled": true
   },
   "outputs": [],
   "source": [
    "dgapss = []\n",
    "timess = []\n",
    "distss = []\n",
    "\n",
    "for ta_eps in experiment[\"ta_epss\"]:\n",
    "    output = cyclic(model=twostage_beckmann_model,\n",
    "                    traffic_assigment_eps_abs=ta_eps, \n",
    "                    traffic_assigment_max_iter=experiment[\"cyclic_ta_iters\"], \n",
    "                    max_iter=experiment[\"cyclic_big_iters\"], \n",
    "                    stop_by_crit=False,\n",
    "                    solution_flows=flows_e_best,\n",
    "                    solution_corrs=corrs_best,\n",
    "                   )\n",
    "    times_e_cyclic, flows_e_cyclic, d_ij_cyclic, logs, optimal = output\n",
    "    dgap_cyclic, cons_log_cyclic, time_log_cyclic, dist_flows_log, dist_corrs_log = logs\n",
    "    \n",
    "    dgapss.append(dgap_cyclic)    \n",
    "    timess.append(list(time_log_cyclic))\n",
    "    distss.append(list((np.array(dist_flows_log) ** 2 + np.array(dist_corrs_log) ** 2) ** 0.5))\n",
    "    \n",
    "data[\"dgapss\"] = dgapss\n",
    "data[\"timess\"] = timess \n",
    "data[\"distss\"] = distss "
   ]
  },
  {
   "cell_type": "code",
   "execution_count": null,
   "id": "0c7918f5",
   "metadata": {},
   "outputs": [],
   "source": [
    "import json\n",
    "\n",
    "with open(f\"experiments_data/{folder}_salim_vs_cyclic.json\", \"w\") as fp:\n",
    "    json.dump(experiment, fp)"
   ]
  },
  {
   "cell_type": "code",
   "execution_count": null,
   "id": "cdbaf85d",
   "metadata": {},
   "outputs": [],
   "source": [
    "with open(f\"experiments_data/{folder}_salim_vs_cyclic.json\", \"r\") as fp:\n",
    "    experiment = json.load(fp)\n",
    "data = experiment[\"data\"]\n",
    "    \n",
    "plt.figure(figsize=(6,4))\n",
    "\n",
    "ta_epss = experiment[\"ta_epss\"]\n",
    "for i in range(len(ta_epss)):\n",
    "    times, dists = data[\"timess\"][i], data[\"distss\"][i] \n",
    "    plt.plot(times, dists, label=f\"gap={ta_epss[i]}\")\n",
    "    plt.scatter(times, dists)\n",
    "\n",
    "plt.plot(data[\"salim_times\"], data[\"salim_dists\"], label=\"salim\")\n",
    "\n",
    "plt.minorticks_on()\n",
    "plt.yscale(\"log\")\n",
    "\n",
    "plt.ylabel(\"dist\")\n",
    "plt.xlabel(\"time, s\")\n",
    "\n",
    "minor_locator = LogLocator(base=10.0, subs=np.arange(1.0, 10.0) * 0.1, numticks=12)\n",
    "plt.gca().yaxis.set_minor_locator(minor_locator)\n",
    "\n",
    "plt.grid(which='major', linestyle='-', linewidth='0.5', alpha=0.5)\n",
    "plt.grid(which='minor', linestyle=':', linewidth='0.5', alpha=1) \n",
    "\n",
    "plt.legend()\n",
    "\n",
    "plt.savefig(f\"experiments_data/{folder}.pdf\", bbox_inches=\"tight\")"
   ]
  },
  {
   "cell_type": "raw",
   "id": "f75185ad",
   "metadata": {},
   "source": [
    "# for Chicago-sketch with\n",
    "# tm = correspondences.traffic_mat\n",
    "# tm[tm == 0] = 1\n",
    "# tm[tm > 10] = tm[tm > 10] * 0.952\n",
    "\n",
    "comment = \"3FW in cyclic\"\n",
    "ta_epss = list(10.0 ** np.arange(3, 2, -1))\n",
    "# agd_kwargs = dict(eps_abs=1e-4, iters=1000, M0=10)\n",
    "# salim_kwargs = dict(eps_abs=1e-5, iters=1000, mu=0.01, L=1)\n",
    "experiment = {\"meta\": {\"network\": folder, \"description\": comment, },\n",
    "#        \"almost_exact\" : {\"max_iter\": 10_000, \"ta_eps_abs\": 1e-2},\n",
    "       \"almost_exact\" : {},\n",
    "        \"cyclic_big_iters\": 10,\n",
    "        \"cyclic_ta_iters\": 100,\n",
    "        \"ta_epss\" : ta_epss,\n",
    "        \"salim_kwargs\" : dict(mu=1e-3, L=15,lam2=l.size/10, lam1=4*l.size),\n",
    "        \"salim_iters\" : 2000,\n",
    "        \"salim_exact_iters\" : 10000,\n",
    "        \"data\" : {     \n",
    "            \"dgapss\" : None,\n",
    "            \"timess\" : None,\n",
    "            \"distss\" : None,\n",
    "            \"salim_exact_cons\" : None,\n",
    "            \"salim_exact_opt\" : None,\n",
    "            \"salim_times\" : None,\n",
    "            \"salim_dists\" : None,\n",
    "            },\n",
    "        }\n",
    "data = experiment[\"data\"]"
   ]
  }
 ],
 "metadata": {
  "kernelspec": {
   "display_name": "tm",
   "language": "python",
   "name": "tm"
  },
  "language_info": {
   "codemirror_mode": {
    "name": "ipython",
    "version": 3
   },
   "file_extension": ".py",
   "mimetype": "text/x-python",
   "name": "python",
   "nbconvert_exporter": "python",
   "pygments_lexer": "ipython3",
   "version": "3.11.6"
  }
 },
 "nbformat": 4,
 "nbformat_minor": 5
}
